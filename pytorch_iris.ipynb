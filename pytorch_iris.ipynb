{
  "nbformat": 4,
  "nbformat_minor": 0,
  "metadata": {
    "colab": {
      "name": "pytorch-iris",
      "provenance": [],
      "collapsed_sections": []
    },
    "kernelspec": {
      "name": "python3",
      "display_name": "Python 3"
    },
    "accelerator": "GPU"
  },
  "cells": [
    {
      "cell_type": "code",
      "metadata": {
        "id": "ELKX7dmDKzuL",
        "colab_type": "code",
        "colab": {}
      },
      "source": [
        "import torch"
      ],
      "execution_count": 0,
      "outputs": []
    },
    {
      "cell_type": "code",
      "metadata": {
        "id": "bspr_yVzLARC",
        "colab_type": "code",
        "colab": {}
      },
      "source": [
        "from sklearn.datasets import load_iris\n",
        "\n",
        "iris = load_iris()\n",
        "x_data=iris.data\n",
        "y_data=iris.target"
      ],
      "execution_count": 0,
      "outputs": []
    },
    {
      "cell_type": "code",
      "metadata": {
        "id": "sLGeOSpOOPix",
        "colab_type": "code",
        "colab": {}
      },
      "source": [
        "from sklearn.model_selection import train_test_split\n",
        "X_train, X_test, y_train, y_test = train_test_split(\n",
        "    x_data, y_data, test_size=0.33, random_state=42)"
      ],
      "execution_count": 0,
      "outputs": []
    },
    {
      "cell_type": "code",
      "metadata": {
        "id": "QH5CpnbrOVO2",
        "colab_type": "code",
        "colab": {}
      },
      "source": [
        "# Convert to pytorch dataset\n",
        "tensor_x_train = torch.Tensor(X_train)\n",
        "tensor_y_train = torch.Tensor(y_train)\n",
        "tensor_x_test = torch.Tensor(X_test)\n",
        "tensor_y_test = torch.Tensor(y_test)\n",
        "\n",
        "from torch.utils import data\n",
        "train_dataset = data.TensorDataset(tensor_x_train, tensor_y_train)\n",
        "test_dataset = data.TensorDataset(tensor_x_test, tensor_y_test)"
      ],
      "execution_count": 0,
      "outputs": []
    },
    {
      "cell_type": "code",
      "metadata": {
        "id": "6RTcZCgVPSdm",
        "colab_type": "code",
        "colab": {}
      },
      "source": [
        "# Dataset Loader (Input Batcher)\n",
        "batch_size = 10\n",
        "train_loader = torch.utils.data.DataLoader(dataset=train_dataset, batch_size=batch_size, shuffle=True)\n",
        "\n",
        "test_loader = torch.utils.data.DataLoader(dataset=test_dataset, batch_size=batch_size, shuffle=False)"
      ],
      "execution_count": 0,
      "outputs": []
    },
    {
      "cell_type": "code",
      "metadata": {
        "id": "xjKZhIwxQLKi",
        "colab_type": "code",
        "colab": {}
      },
      "source": [
        "import torch.nn as nn\n",
        "from collections import OrderedDict\n",
        "\n",
        "class IrisNN(nn.Module):\n",
        "  def __init__(self, input_size, num_classes):\n",
        "    super(IrisNN, self).__init__()\n",
        "\n",
        "    self.input_size = input_size\n",
        "    self.num_classes = num_classes\n",
        "\n",
        "    self.net = nn.Sequential(OrderedDict([\n",
        "            ('linear_1', nn.Linear(input_size, 75)),\n",
        "            ('Relu1', nn.ReLU()),\n",
        "\n",
        "            ('linear_2', nn.Linear(75, 50)),\n",
        "            ('Relu2', nn.ReLU()),\n",
        "            \n",
        "            ('linear_3', nn.Linear(50, num_classes)),\n",
        "        ]))\n",
        "\n",
        "  def forward(self, x):\n",
        "    out = self.net(x)\n",
        "    return out"
      ],
      "execution_count": 0,
      "outputs": []
    },
    {
      "cell_type": "code",
      "metadata": {
        "id": "yqtPXPjcR0_Q",
        "colab_type": "code",
        "colab": {}
      },
      "source": [
        "num_classes = 3\n",
        "input_size = 4\n",
        "\n",
        "model = IrisNN(input_size, num_classes)"
      ],
      "execution_count": 0,
      "outputs": []
    },
    {
      "cell_type": "code",
      "metadata": {
        "id": "AFo6BGl2RXQe",
        "colab_type": "code",
        "outputId": "339f4e95-90c3-4aa8-9082-114d82846392",
        "colab": {
          "base_uri": "https://localhost:8080/",
          "height": 187
        }
      },
      "source": [
        "device = torch.device('cuda' if torch.cuda.is_available() else 'cpu')\n",
        "\n",
        "num_epochs = 10\n",
        "\n",
        "# Copy all model parameters to the GPU\n",
        "model = model.to(device)\n",
        "\n",
        "criterion = torch.nn.CrossEntropyLoss()  \n",
        "optimizer = torch.optim.Adam(model.parameters(), lr=1e-3)\n",
        "\n",
        "for epoch in range(num_epochs):\n",
        "  total_loss = 0.0\n",
        "\n",
        "  for (inputs, labels) in train_loader:\n",
        "    inputs = inputs.to(device)\n",
        "    labels = labels.to(device)\n",
        "\n",
        "    optimizer.zero_grad()\n",
        "    outputs = model(inputs)\n",
        "\n",
        "    loss = criterion(outputs, labels.long())\n",
        "    loss.backward()\n",
        "    optimizer.step()\n",
        "\n",
        "    total_loss += loss.item()\n",
        "  print(\"Epoch %d, Loss=%.4f\" % (epoch+1, total_loss/len(train_loader)))\n",
        "\n",
        "  \n"
      ],
      "execution_count": 0,
      "outputs": [
        {
          "output_type": "stream",
          "text": [
            "Epoch 1, Loss=1.1027\n",
            "Epoch 2, Loss=0.9884\n",
            "Epoch 3, Loss=0.9140\n",
            "Epoch 4, Loss=0.8349\n",
            "Epoch 5, Loss=0.7433\n",
            "Epoch 6, Loss=0.6449\n",
            "Epoch 7, Loss=0.5671\n",
            "Epoch 8, Loss=0.4970\n",
            "Epoch 9, Loss=0.4435\n",
            "Epoch 10, Loss=0.4015\n"
          ],
          "name": "stdout"
        }
      ]
    },
    {
      "cell_type": "code",
      "metadata": {
        "id": "IXOWVZpNTF_y",
        "colab_type": "code",
        "colab": {}
      },
      "source": [
        "def accuracy(model, data_loader, device):\n",
        "    with torch.no_grad():\n",
        "        correct = 0\n",
        "        total = 0\n",
        "        for inputs, labels in data_loader:\n",
        "            inputs = inputs.to(device)     \n",
        "            \n",
        "            outputs = model(inputs)\n",
        "            _, predicted = outputs.max(1)\n",
        "            \n",
        "            correct += (predicted.cpu() == labels).sum().item()\n",
        "            total += labels.size(0)\n",
        "            \n",
        "    acc = correct / total\n",
        "    return acc"
      ],
      "execution_count": 0,
      "outputs": []
    },
    {
      "cell_type": "code",
      "metadata": {
        "id": "eQ2Ph3SFYI3f",
        "colab_type": "code",
        "outputId": "28b069c5-4334-4385-c54d-02d891eb3f48",
        "colab": {
          "base_uri": "https://localhost:8080/",
          "height": 34
        }
      },
      "source": [
        "accuracy(model, train_loader, device)"
      ],
      "execution_count": 0,
      "outputs": [
        {
          "output_type": "execute_result",
          "data": {
            "text/plain": [
              "0.94"
            ]
          },
          "metadata": {
            "tags": []
          },
          "execution_count": 111
        }
      ]
    },
    {
      "cell_type": "code",
      "metadata": {
        "id": "AnePE3o_XRyH",
        "colab_type": "code",
        "outputId": "9b3566d6-1397-4700-bb16-b798402e1dee",
        "colab": {
          "base_uri": "https://localhost:8080/",
          "height": 34
        }
      },
      "source": [
        "accuracy(model, test_loader, device)"
      ],
      "execution_count": 0,
      "outputs": [
        {
          "output_type": "execute_result",
          "data": {
            "text/plain": [
              "1.0"
            ]
          },
          "metadata": {
            "tags": []
          },
          "execution_count": 112
        }
      ]
    },
    {
      "cell_type": "code",
      "metadata": {
        "id": "RysXXspXXXko",
        "colab_type": "code",
        "colab": {}
      },
      "source": [
        "# torch.save(model, \"my_model.pt\")\n",
        "# my_model_loaded = torch.load(\"my_model.pt\")"
      ],
      "execution_count": 0,
      "outputs": []
    }
  ]
}